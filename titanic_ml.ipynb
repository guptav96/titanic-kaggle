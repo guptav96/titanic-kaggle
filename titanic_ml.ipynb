{
 "cells": [
  {
   "cell_type": "code",
   "execution_count": 575,
   "metadata": {},
   "outputs": [
    {
     "name": "stdout",
     "output_type": "stream",
     "text": [
      "ML Problem: Titanic\n"
     ]
    }
   ],
   "source": [
    "print(\"ML Problem: Titanic\")"
   ]
  },
  {
   "cell_type": "code",
   "execution_count": 576,
   "metadata": {},
   "outputs": [],
   "source": [
    "import pandas as pd\n",
    "import numpy as np\n",
    "train_df = pd.read_csv(\"titanic/train.csv\", na_values=['no info', '.'])\n",
    "test_df = pd.read_csv(\"titanic/test.csv\", na_values=['no info', '.'])"
   ]
  },
  {
   "cell_type": "code",
   "execution_count": 617,
   "metadata": {},
   "outputs": [
    {
     "name": "stdout",
     "output_type": "stream",
     "text": [
      "Index(['PassengerId', 'Survived', 'Pclass', 'Name', 'Sex', 'Age', 'SibSp',\n",
      "       'Parch', 'Ticket', 'Fare', 'Cabin', 'Embarked', 'Sex_code',\n",
      "       'Cabin_code', 'Embarked_code'],\n",
      "      dtype='object')\n"
     ]
    }
   ],
   "source": [
    "# print(train_df.head(5))\n",
    "print(train_df.columns)"
   ]
  },
  {
   "cell_type": "code",
   "execution_count": 578,
   "metadata": {},
   "outputs": [
    {
     "data": {
      "image/png": "[encoded data removed]",
      "text/plain": [
       "<Figure size 432x288 with 1 Axes>"
      ]
     },
     "metadata": {},
     "output_type": "display_data"
    },
    {
     "name": "stdout",
     "output_type": "stream",
     "text": [
      "Number of people in training survived = 342 / 891 \n"
     ]
    }
   ],
   "source": [
    "import matplotlib.pyplot as plt\n",
    "import seaborn as sns\n",
    "\n",
    "sns.set(font_scale=1.5)\n",
    "countplt=sns.countplot(x='Survived', data=train_df, palette ='hls')\n",
    "plt.show()\n",
    "\n",
    "count_no_survived = len(train_df[train_df['Survived']==1])\n",
    "print(\"Number of people in training survived = %d / %d \" %(count_no_survived, len(train_df)))"
   ]
  },
  {
   "cell_type": "code",
   "execution_count": 579,
   "metadata": {},
   "outputs": [
    {
     "name": "stdout",
     "output_type": "stream",
     "text": [
      "          PassengerId    Pclass        Age     SibSp     Parch       Fare\n",
      "Survived                                                                 \n",
      "0          447.016393  2.531876  30.626179  0.553734  0.329690  22.117887\n",
      "1          444.368421  1.950292  28.343690  0.473684  0.464912  48.395408\n"
     ]
    }
   ],
   "source": [
    "# Visualising training data\n",
    "out_label = train_df.groupby('Survived').mean()\n",
    "print(out_label)"
   ]
  },
  {
   "cell_type": "code",
   "execution_count": 580,
   "metadata": {},
   "outputs": [],
   "source": [
    "from sklearn.preprocessing import LabelEncoder\n",
    "\n",
    "lb_make = LabelEncoder()\n",
    "cat_vars = [\"Sex\", \"Cabin\",\"Embarked\"]\n",
    "other_vars = [\"Age\", \"Pclass\", \"SibSp\", \"Parch\", \"Fare\"]\n",
    "add_vars = [\"CabinB\", \"NumSeats\", \"FamSize\"]\n",
    "\n",
    "def data_proc(data):\n",
    "    for var in cat_vars:\n",
    "        data[var] = data[var].fillna('Missing')\n",
    "        data[var+\"_code\"] = lb_make.fit_transform(data[var])\n",
    "        \n",
    "    for other_var in other_vars:\n",
    "        data[other_var].fillna((data[other_var].mean()),inplace=True)\n",
    "\n",
    "#     data['CabinB'] = [word[0:1] for word in data['Cabin']]\n",
    "#     data['CabinB'] = lb_make.fit_transform(data['CabinB'])\n",
    "#     data['NumSeats'] = [len(word.split(' ')) for word in data['Cabin']]\n",
    "#     data['FamSize'] = data['Parch'] + data['SibSp']\n",
    "    \n",
    "    out_vars = data.columns.values.tolist()\n",
    "    to_keep = [i for i in out_vars if i not in cat_vars]\n",
    "    \n",
    "    return data[to_keep]"
   ]
  },
  {
   "cell_type": "code",
   "execution_count": 581,
   "metadata": {},
   "outputs": [],
   "source": [
    "train_data = data_proc(train_df)\n",
    "final_features = train_data.columns.values.tolist()\n",
    "Y = ['Survived']\n",
    "X = [i for i in final_features if i not in [\"Survived\", \"PassengerId\", \"Name\", \"Ticket\"]]"
   ]
  },
  {
   "cell_type": "code",
   "execution_count": 583,
   "metadata": {},
   "outputs": [
    {
     "name": "stdout",
     "output_type": "stream",
     "text": [
      "   Pclass   Age  SibSp  Parch     Fare  Sex_code  Cabin_code  Embarked_code\n",
      "0       3  22.0      1      0   7.2500         1         146              3\n",
      "1       1  38.0      1      0  71.2833         0          81              0\n",
      "2       3  26.0      0      0   7.9250         0         146              3\n",
      "3       1  35.0      1      0  53.1000         0          55              3\n",
      "4       3  35.0      0      0   8.0500         1         146              3\n"
     ]
    }
   ],
   "source": [
    "from sklearn.preprocessing import StandardScaler\n",
    "from sklearn import preprocessing\n",
    "\n",
    "# train data\n",
    "X_train = train_data[X]\n",
    "print(X_train.head())\n",
    "y_train = train_data[Y].values.ravel()\n",
    "scaler = StandardScaler()\n",
    "# X_train = scaler.fit_transform(X_train)\n",
    "# X_train = preprocessing.normalize(X_train)"
   ]
  },
  {
   "cell_type": "code",
   "execution_count": 584,
   "metadata": {},
   "outputs": [],
   "source": [
    "# print(train_data[X])"
   ]
  },
  {
   "cell_type": "code",
   "execution_count": 613,
   "metadata": {},
   "outputs": [
    {
     "name": "stdout",
     "output_type": "stream",
     "text": [
      "{'learning_rate': 0.005, 'max_features': 'sqrt', 'n_estimators': 1000}\n"
     ]
    }
   ],
   "source": [
    "from sklearn.linear_model import LogisticRegression\n",
    "from sklearn.ensemble import RandomForestClassifier\n",
    "from sklearn.model_selection import GridSearchCV\n",
    "from sklearn.ensemble import GradientBoostingClassifier\n",
    "from sklearn.metrics import classification_report\n",
    "from sklearn import svm\n",
    "\n",
    "# Using A GBC\n",
    "grid_values = { 'learning_rate' : [0.005], \n",
    "                'n_estimators'  : [1000],\n",
    "                'max_features'  : ['sqrt'] }\n",
    "\n",
    "# grid_values = { 'C': [1,2,5,10], 'kernel': ['rbf']}\n",
    "clf = GridSearchCV(GradientBoostingClassifier(random_state = 0), param_grid = grid_values, scoring = 'accuracy', cv = 3)\n",
    "clf.fit(X_train, y_train)\n",
    "print(clf.best_params_)"
   ]
  },
  {
   "cell_type": "code",
   "execution_count": 614,
   "metadata": {},
   "outputs": [],
   "source": [
    "test_data = data_proc(test_df)\n",
    "X_test = test_data[X]\n",
    "# X_test = scaler.fit_transform(X_test)\n",
    "# X_test = preprocessing.normalize(X_test)\n",
    "y_test_pred = clf.predict(X_test)"
   ]
  },
  {
   "cell_type": "code",
   "execution_count": 615,
   "metadata": {},
   "outputs": [],
   "source": [
    "result_df = pd.DataFrame({'PassengerId': test_df[\"PassengerId\"], 'Survived': y_test_pred})\n",
    "result_df.to_csv(r'titanic/test_pred.csv', index = False)"
   ]
  },
  {
   "cell_type": "code",
   "execution_count": 616,
   "metadata": {},
   "outputs": [
    {
     "data": {
      "text/plain": [
       "0.8653198653198653"
      ]
     },
     "execution_count": 616,
     "metadata": {},
     "output_type": "execute_result"
    }
   ],
   "source": [
    "clf.score(X_train, y_train)"
   ]
  }
 ],
 "metadata": {
  "kernelspec": {
   "display_name": "Python 3",
   "language": "python",
   "name": "python3"
  },
  "language_info": {
   "codemirror_mode": {
    "name": "ipython",
    "version": 3
   },
   "file_extension": ".py",
   "mimetype": "text/x-python",
   "name": "python",
   "nbconvert_exporter": "python",
   "pygments_lexer": "ipython3",
   "version": "3.7.9"
  }
 },
 "nbformat": 4,
 "nbformat_minor": 4
}
